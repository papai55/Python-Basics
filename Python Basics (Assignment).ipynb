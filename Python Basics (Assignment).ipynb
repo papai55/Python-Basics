{
 "cells": [
  {
   "cell_type": "markdown",
   "id": "b399aa3d-bfcf-486d-a8a2-8ae6e074b27b",
   "metadata": {},
   "source": [
    "# Python Basics"
   ]
  },
  {
   "cell_type": "markdown",
   "id": "1ad02579-0549-4a2e-b4b2-ee5790796f27",
   "metadata": {},
   "source": [
    "## Theory"
   ]
  },
  {
   "cell_type": "raw",
   "id": "ac08373a-14e9-406e-bf6b-797434234042",
   "metadata": {},
   "source": [
    "1. What is Python and why it is popoular ?\n",
    "  - Python is a programming language , it is work like a language medium between human and computer it's like human give instructions to do somthing .\n",
    "  - Python is easy to learn , versatile , it has lots of libraries , huge databases , big community that's why python is popular ."
   ]
  },
  {
   "cell_type": "raw",
   "id": "4b39c36a-fb15-4d9b-abc9-5147d34d784c",
   "metadata": {},
   "source": [
    "2. What is interpreter in Python ?\n",
    "  - Interpreter is like a translator , it is a program that reads and executes Python code line by line ."
   ]
  },
  {
   "cell_type": "raw",
   "id": "fd55b268-6c83-40a9-8f9e-b550a5e87edd",
   "metadata": {},
   "source": [
    "3. What are pre-defined keywords in Python ?\n",
    "  - Pre-defined keywords are pre built or reserved words that have special meanings , it is used to defined syntax of codeing but not used as variable names and fuctions name ."
   ]
  },
  {
   "cell_type": "raw",
   "id": "e9e53016-45a4-4410-abdd-e4e3f9a61765",
   "metadata": {},
   "source": [
    "4. Can keywords be used as variable names ?\n",
    "  - No ."
   ]
  },
  {
   "cell_type": "raw",
   "id": "9af3f2e8-5ace-43a0-924a-3285d8cdeea0",
   "metadata": {},
   "source": [
    "5. What is mutability in Python ?\n",
    "  - Ability to change or edit data types in Python is called mutability ."
   ]
  },
  {
   "cell_type": "raw",
   "id": "6121fc53-b909-4f2c-87ac-3d6ead247774",
   "metadata": {},
   "source": [
    "6. Why are lists mutable but tuples are immutable ?\n",
    "  - Beacuse lists can be changed easily but tuples can't be changed"
   ]
  },
  {
   "cell_type": "raw",
   "id": "a9f5167d-a8e0-40b5-9199-a39f6e081e85",
   "metadata": {},
   "source": [
    "7. What is the difference between \"==\" and \"is\" operators in python ?\n",
    "  - \"==\" is a equality operator and it comes under 'Comparation operator' but \"is\" comes under 'Identity operator'"
   ]
  },
  {
   "cell_type": "raw",
   "id": "34904f36-8658-483b-b352-20ba218ce9f1",
   "metadata": {},
   "source": [
    "8. What are logical operators in pyhon ?\n",
    "  - Logical operators are used for continonal statement . main logical operators are 'and , or , not ' ."
   ]
  },
  {
   "cell_type": "raw",
   "id": "cf256032-c580-41c6-92ba-9efe8b973200",
   "metadata": {},
   "source": [
    "9. What is type casting in python ?\n",
    "  - The process of converting a one data type to another data type of a value or object ."
   ]
  },
  {
   "cell_type": "raw",
   "id": "e26f7b78-ed3e-4a0d-acbb-24b49b4919b0",
   "metadata": {},
   "source": [
    "10. What is the difference between implicit and explicit type casting ?\n",
    "  - The Python interpreter automatically converts data types without extra programmer interventions , that is implicit type casting but in explicit type casting programmer have to converts date type manually using pre-bulit fuctions ."
   ]
  },
  {
   "cell_type": "raw",
   "id": "3f374d8a-7cca-4b9b-9093-80c240f2252a",
   "metadata": {},
   "source": [
    "11. What is the purpose of conditional statements in Python ?\n",
    "  - To tell the computer \"chek something , then act based on the result \" . it is use to make decisions and do different things based on different situations ."
   ]
  },
  {
   "cell_type": "raw",
   "id": "e17ac746-6a7a-441f-bbcf-825c4b360e68",
   "metadata": {},
   "source": [
    "12. How does the elif statement work ?\n",
    "  - 'elif' means 'else if' and it is use for multiple conditions . Python cheks the first 'if' and cheks first 'elif' then next 'elif' till gets first match "
   ]
  },
  {
   "cell_type": "raw",
   "id": "9e761f77-2975-4eb6-bebc-ed6af87d1c45",
   "metadata": {},
   "source": [
    "13. What is the defference between for and while loops ?\n",
    "  - 'for' loops are used when a programmer know how many times to repeat but 'while' loops are used when a programmer repeat untill a condition is false ."
   ]
  },
  {
   "cell_type": "raw",
   "id": "cc4074f3-c76b-4ae0-91ce-52d07ec83d01",
   "metadata": {},
   "source": [
    "14. Describe a scenario where a while loop is more suitable than a for loop .\n",
    "  - A program keeps asking the user to enter his father's number , but the user forgot the last 3 digits , so he doesn't know how many tries it will take . The number of tries is unkown , so in this scenario while loop is more suitable than a for loop"
   ]
  },
  {
   "cell_type": "code",
   "execution_count": null,
   "id": "7c807d84-39f2-470f-abb3-c94d276bfe3b",
   "metadata": {},
   "outputs": [],
   "source": []
  },
  {
   "cell_type": "markdown",
   "id": "fe2988ba-85d0-4be2-b66e-9cb9813d4a41",
   "metadata": {},
   "source": [
    "## Practical"
   ]
  },
  {
   "cell_type": "code",
   "execution_count": 1,
   "id": "0863a70d-67b9-4b34-9976-6d07a439212d",
   "metadata": {},
   "outputs": [
    {
     "name": "stdout",
     "output_type": "stream",
     "text": [
      "Hello , World !\n"
     ]
    }
   ],
   "source": [
    "# 1. Write a Python program to print \"Hello, World!\"\n",
    "print(\"Hello , World !\")\n"
   ]
  },
  {
   "cell_type": "code",
   "execution_count": 8,
   "id": "0a1a56f9-6d42-4ba9-b7bf-08d8af9a78c4",
   "metadata": {},
   "outputs": [
    {
     "name": "stdout",
     "output_type": "stream",
     "text": [
      "my name is papai\n",
      "my age is 24 years\n"
     ]
    }
   ],
   "source": [
    "# 2. write a Python program that displays your name and age.\n",
    "print(\"my name is papai\")\n",
    "print(\"my age is 24 years\")"
   ]
  },
  {
   "cell_type": "code",
   "execution_count": 10,
   "id": "8802a729-228c-4b90-a984-0271676a3beb",
   "metadata": {},
   "outputs": [
    {
     "name": "stdout",
     "output_type": "stream",
     "text": [
      "\n",
      "Here is a list of the Python keywords.  Enter any keyword to get more help.\n",
      "\n",
      "False               class               from                or\n",
      "None                continue            global              pass\n",
      "True                def                 if                  raise\n",
      "and                 del                 import              return\n",
      "as                  elif                in                  try\n",
      "assert              else                is                  while\n",
      "async               except              lambda              with\n",
      "await               finally             nonlocal            yield\n",
      "break               for                 not                 \n",
      "\n"
     ]
    }
   ],
   "source": [
    "# 3. Write a code to print all the pre-defined keywords in Python using the keyword library.\n",
    "help(\"keywords\")"
   ]
  },
  {
   "cell_type": "code",
   "execution_count": 19,
   "id": "666f0de6-0311-4ef6-8e86-aa5b1834705d",
   "metadata": {},
   "outputs": [
    {
     "name": "stdin",
     "output_type": "stream",
     "text": [
      "enter a word : while\n"
     ]
    },
    {
     "name": "stdout",
     "output_type": "stream",
     "text": [
      "while is a Python keyword\n"
     ]
    }
   ],
   "source": [
    "# 4. Write a program that checks if a given word is python keyword.\n",
    "import keyword\n",
    "word = input(\"enter a word :\")\n",
    "\n",
    "if keyword.iskeyword(word):\n",
    "    print(word, \"is a Python keyword\")\n",
    "else:\n",
    "    print(word, \"is not a Python keyword\")"
   ]
  },
  {
   "cell_type": "code",
   "execution_count": 29,
   "id": "ae916952-e160-42cd-b67f-73e1af02cd85",
   "metadata": {},
   "outputs": [
    {
     "name": "stdout",
     "output_type": "stream",
     "text": [
      "False\n"
     ]
    }
   ],
   "source": [
    "# 4. second method\n",
    "import keyword\n",
    "print (keyword.iskeyword(\"papai\"))"
   ]
  },
  {
   "cell_type": "code",
   "execution_count": 56,
   "id": "179510df-36d3-4573-b4e1-1dc017dbda43",
   "metadata": {},
   "outputs": [
    {
     "name": "stdout",
     "output_type": "stream",
     "text": [
      "['red', 'yellow', 'orange', 'black', 'white']\n"
     ]
    }
   ],
   "source": [
    "# 5. create a list and tuple in Python , and demonstrate how attempting to change and element works differently for each.\n",
    "colour_list = [\"red\",\"yellow\",\"orange\",\"black\",\"white\"]\n",
    "print(colour_list)"
   ]
  },
  {
   "cell_type": "code",
   "execution_count": 57,
   "id": "1c179372-ee1a-4c6e-9ab1-abb3933ae3fb",
   "metadata": {},
   "outputs": [
    {
     "data": {
      "text/plain": [
       "['red', 'yellow', 'orange', 'purple', 'white']"
      ]
     },
     "execution_count": 57,
     "metadata": {},
     "output_type": "execute_result"
    }
   ],
   "source": [
    "#changing 4rth item\n",
    "colour_list[3] = \"purple\"\n",
    "colour_list"
   ]
  },
  {
   "cell_type": "code",
   "execution_count": 58,
   "id": "aac958d7-a739-4738-be8a-9794a6cc2264",
   "metadata": {},
   "outputs": [
    {
     "name": "stdout",
     "output_type": "stream",
     "text": [
      "('red', 'yellow', 'orange', 'black', 'white')\n"
     ]
    }
   ],
   "source": [
    "#creating tuple\n",
    "colour_tuple = (\"red\", \"yellow\", \"orange\", \"black\", \"white\")\n",
    "print(colour_tuple)"
   ]
  },
  {
   "cell_type": "code",
   "execution_count": 59,
   "id": "9afc7743-eac1-48e9-99b1-07b6b64c323f",
   "metadata": {},
   "outputs": [
    {
     "ename": "TypeError",
     "evalue": "'tuple' object does not support item assignment",
     "output_type": "error",
     "traceback": [
      "\u001b[31m---------------------------------------------------------------------------\u001b[39m",
      "\u001b[31mTypeError\u001b[39m                                 Traceback (most recent call last)",
      "\u001b[36mCell\u001b[39m\u001b[36m \u001b[39m\u001b[32mIn[59]\u001b[39m\u001b[32m, line 2\u001b[39m\n\u001b[32m      1\u001b[39m \u001b[38;5;66;03m#changing 4rth item\u001b[39;00m\n\u001b[32m----> \u001b[39m\u001b[32m2\u001b[39m \u001b[43mcolour_tuple\u001b[49m\u001b[43m[\u001b[49m\u001b[32;43m3\u001b[39;49m\u001b[43m]\u001b[49m = \u001b[33m\"\u001b[39m\u001b[33mpurple\u001b[39m\u001b[33m\"\u001b[39m\n\u001b[32m      3\u001b[39m colour_tuple\n",
      "\u001b[31mTypeError\u001b[39m: 'tuple' object does not support item assignment"
     ]
    }
   ],
   "source": [
    "#changing 4rth item\n",
    "colour_tuple[3] = \"purple\"\n",
    "colour_tuple"
   ]
  },
  {
   "cell_type": "code",
   "execution_count": 60,
   "id": "e826062a-7ae2-44f3-bce2-ae0a8084af43",
   "metadata": {},
   "outputs": [],
   "source": [
    "# here we can see computer throw an error. beacuse tuple is immutable , it can't be changed but list is mutable it can be changed."
   ]
  },
  {
   "cell_type": "code",
   "execution_count": 61,
   "id": "c49ea50a-047d-4850-9c72-4a6a74b51221",
   "metadata": {},
   "outputs": [],
   "source": [
    "# 6. Write a function to demonstrate the behavior of mutable and immutable arguments.\n",
    "a = 8"
   ]
  },
  {
   "cell_type": "code",
   "execution_count": 72,
   "id": "f013d487-9b8e-40ff-a8dc-b1e5d0183fa1",
   "metadata": {},
   "outputs": [
    {
     "data": {
      "text/plain": [
       "float"
      ]
     },
     "execution_count": 72,
     "metadata": {},
     "output_type": "execute_result"
    }
   ],
   "source": [
    "a = 8.5\n",
    "type(a)"
   ]
  },
  {
   "cell_type": "code",
   "execution_count": 71,
   "id": "5c3ab2c4-91d4-4885-b0f5-9071ff3c4966",
   "metadata": {},
   "outputs": [
    {
     "data": {
      "text/plain": [
       "8"
      ]
     },
     "execution_count": 71,
     "metadata": {},
     "output_type": "execute_result"
    }
   ],
   "source": [
    "b= int(a)\n",
    "b"
   ]
  },
  {
   "cell_type": "code",
   "execution_count": 73,
   "id": "a2396c3c-1797-4ab6-9efb-a92700b1a8c3",
   "metadata": {},
   "outputs": [
    {
     "data": {
      "text/plain": [
       "str"
      ]
     },
     "execution_count": 73,
     "metadata": {},
     "output_type": "execute_result"
    }
   ],
   "source": [
    "c = \"papai\"\n",
    "type(c)"
   ]
  },
  {
   "cell_type": "code",
   "execution_count": 77,
   "id": "e22cfc8e-81e7-42f8-938b-193c6693eb20",
   "metadata": {},
   "outputs": [
    {
     "ename": "ValueError",
     "evalue": "invalid literal for int() with base 10: 'papai'",
     "output_type": "error",
     "traceback": [
      "\u001b[31m---------------------------------------------------------------------------\u001b[39m",
      "\u001b[31mValueError\u001b[39m                                Traceback (most recent call last)",
      "\u001b[36mCell\u001b[39m\u001b[36m \u001b[39m\u001b[32mIn[77]\u001b[39m\u001b[32m, line 1\u001b[39m\n\u001b[32m----> \u001b[39m\u001b[32m1\u001b[39m d = \u001b[38;5;28;43mint\u001b[39;49m\u001b[43m(\u001b[49m\u001b[43mc\u001b[49m\u001b[43m)\u001b[49m\n",
      "\u001b[31mValueError\u001b[39m: invalid literal for int() with base 10: 'papai'"
     ]
    }
   ],
   "source": [
    "d = int(c)"
   ]
  },
  {
   "cell_type": "code",
   "execution_count": 78,
   "id": "aa3d2582-6c9c-4642-8393-25f4a145f5c6",
   "metadata": {},
   "outputs": [],
   "source": [
    "#a that is float changed to integer beacuse that is mutable but c that is string not changed beacuse that is immutable"
   ]
  },
  {
   "cell_type": "code",
   "execution_count": 84,
   "id": "fe7d2be5-182b-42c1-a4f5-bcfe162ed531",
   "metadata": {},
   "outputs": [
    {
     "data": {
      "text/plain": [
       "80"
      ]
     },
     "execution_count": 84,
     "metadata": {},
     "output_type": "execute_result"
    }
   ],
   "source": [
    "# 7. Write a program that performs basic arithmetic operations on two user-input numbers.\n",
    "a = 35\n",
    "b = 45\n",
    "a+b"
   ]
  },
  {
   "cell_type": "code",
   "execution_count": 88,
   "id": "ea78c7bd-9417-421c-a6f8-548a4ce4ff7c",
   "metadata": {},
   "outputs": [
    {
     "name": "stdout",
     "output_type": "stream",
     "text": [
      "a and not a or b and b : False\n"
     ]
    }
   ],
   "source": [
    "# 8. Write a program to demonstrate the use of logical operators.\n",
    "a = True\n",
    "b = False \n",
    "result  = a and not a or b and b\n",
    "print(\"a and not a or b and b :\", result)"
   ]
  },
  {
   "cell_type": "code",
   "execution_count": 5,
   "id": "f2f41770-3937-4bab-af7a-599dfeb91ce5",
   "metadata": {},
   "outputs": [
    {
     "name": "stdin",
     "output_type": "stream",
     "text": [
      "enter a number 1 : 24\n",
      "enter a number 2 : 56\n",
      "enter a number 3 : 95\n"
     ]
    }
   ],
   "source": [
    "# 9. Write a Python program to convert user input from string to integer , float and boolean types.\n",
    "num = int(input(\"enter a number 1 :\"))\n",
    "num_2 = float(input(\"enter a number 2 :\"))\n",
    "num_3 = bool(input(\"enter a number 3 :\"))"
   ]
  },
  {
   "cell_type": "code",
   "execution_count": 6,
   "id": "94c6e2a5-65c5-4331-ad4e-86a0321c86c3",
   "metadata": {},
   "outputs": [
    {
     "data": {
      "text/plain": [
       "int"
      ]
     },
     "execution_count": 6,
     "metadata": {},
     "output_type": "execute_result"
    }
   ],
   "source": [
    "type (num)"
   ]
  },
  {
   "cell_type": "code",
   "execution_count": 7,
   "id": "2a4b10c4-a142-4548-89b6-fbed13962ca4",
   "metadata": {},
   "outputs": [
    {
     "data": {
      "text/plain": [
       "float"
      ]
     },
     "execution_count": 7,
     "metadata": {},
     "output_type": "execute_result"
    }
   ],
   "source": [
    "type (num_2)"
   ]
  },
  {
   "cell_type": "code",
   "execution_count": 8,
   "id": "15c7eab8-4a7f-43b4-88c8-329a8e8de480",
   "metadata": {},
   "outputs": [
    {
     "data": {
      "text/plain": [
       "bool"
      ]
     },
     "execution_count": 8,
     "metadata": {},
     "output_type": "execute_result"
    }
   ],
   "source": [
    "type (num_3)"
   ]
  },
  {
   "cell_type": "code",
   "execution_count": 1,
   "id": "61de7576-344b-4792-8b31-95e47e480758",
   "metadata": {},
   "outputs": [
    {
     "name": "stdout",
     "output_type": "stream",
     "text": [
      "[25, 6.5, (6+5j), 'boy']\n"
     ]
    }
   ],
   "source": [
    "# 10. Write a code to demonstrate type casting with list elements.\n",
    "\n",
    "list_count = [ 25,6.5,6+5j,\"boy\" ]\n",
    "\n",
    "print(list_count)"
   ]
  },
  {
   "cell_type": "code",
   "execution_count": 2,
   "id": "264c9555-41f3-4f61-a270-2151d6d2f870",
   "metadata": {},
   "outputs": [
    {
     "data": {
      "text/plain": [
       "float"
      ]
     },
     "execution_count": 2,
     "metadata": {},
     "output_type": "execute_result"
    }
   ],
   "source": [
    "type (list_count[1])"
   ]
  },
  {
   "cell_type": "code",
   "execution_count": 3,
   "id": "60d617b4-cbd7-4365-bc5e-2cb3cf07963f",
   "metadata": {},
   "outputs": [
    {
     "data": {
      "text/plain": [
       "6"
      ]
     },
     "execution_count": 3,
     "metadata": {},
     "output_type": "execute_result"
    }
   ],
   "source": [
    "list_count[1] = int(list_count[1])\n",
    "list_count[1]"
   ]
  },
  {
   "cell_type": "code",
   "execution_count": 123,
   "id": "0810b719-2fb3-4d38-ae52-224aee8ed6ea",
   "metadata": {},
   "outputs": [
    {
     "data": {
      "text/plain": [
       "int"
      ]
     },
     "execution_count": 123,
     "metadata": {},
     "output_type": "execute_result"
    }
   ],
   "source": [
    "type (list_count[1])"
   ]
  },
  {
   "cell_type": "code",
   "execution_count": 4,
   "id": "7b587e27-4dfc-410f-8258-3a0e5c599c0e",
   "metadata": {},
   "outputs": [
    {
     "data": {
      "text/plain": [
       "[25, 6, (6+5j), 'boy']"
      ]
     },
     "execution_count": 4,
     "metadata": {},
     "output_type": "execute_result"
    }
   ],
   "source": [
    "list_count"
   ]
  },
  {
   "cell_type": "code",
   "execution_count": 16,
   "id": "a8cc976c-456f-4aaa-85e7-70259618cddd",
   "metadata": {},
   "outputs": [
    {
     "name": "stdin",
     "output_type": "stream",
     "text": [
      "enter a number : 5\n"
     ]
    },
    {
     "name": "stdout",
     "output_type": "stream",
     "text": [
      " The number is positive \n"
     ]
    }
   ],
   "source": [
    "# 11. Write a program that checks if a number is positive , negative or zero.\n",
    "number = int(input(\"enter a number :\"))\n",
    "\n",
    "if (number > 0 ) :\n",
    "    print (\" The number is positive \")\n",
    "elif (number < 0 ) :\n",
    "    print (\"The number is negative \")\n",
    "else:\n",
    "    print (\" The number is zero\")"
   ]
  },
  {
   "cell_type": "code",
   "execution_count": 20,
   "id": "e3cc7f0f-ce8b-42be-9d11-bca9912b30ea",
   "metadata": {},
   "outputs": [
    {
     "name": "stdout",
     "output_type": "stream",
     "text": [
      "1\n",
      "2\n",
      "3\n",
      "4\n",
      "5\n",
      "6\n",
      "7\n",
      "8\n",
      "9\n",
      "10\n"
     ]
    }
   ],
   "source": [
    "# 12. Write a for loop to print numbers from 1 to 10.\n",
    "for i in range(1, 11):\n",
    "   print(i)"
   ]
  },
  {
   "cell_type": "code",
   "execution_count": 37,
   "id": "97c18adc-557e-43d4-8bc1-879f65263250",
   "metadata": {},
   "outputs": [
    {
     "name": "stdout",
     "output_type": "stream",
     "text": [
      "sum of even numbers from 1 to 50 is : 650\n"
     ]
    }
   ],
   "source": [
    "# 13. Write a Python program to find sum of all even numbers between 1 and 50 .\n",
    "sum_even = 0\n",
    "for i in range(1, 51):\n",
    "    if i % 2 == 0 :\n",
    "        sum_even += i\n",
    "\n",
    "print(\"sum of even numbers from 1 to 50 is :\", sum_even)"
   ]
  },
  {
   "cell_type": "code",
   "execution_count": 5,
   "id": "e97855f8-45f4-4cbc-ab85-e9aaf5875567",
   "metadata": {},
   "outputs": [
    {
     "name": "stdin",
     "output_type": "stream",
     "text": [
      "Enter a string: welcome\n"
     ]
    },
    {
     "name": "stdout",
     "output_type": "stream",
     "text": [
      "Reversed string: emoclew\n"
     ]
    }
   ],
   "source": [
    "# 14. Write a program to reverse a string using a while loop.\n",
    "text = input(\"Enter a string:\")\n",
    "reversed_text = \"\"\n",
    "i = len(text) - 1\n",
    "while i >= 0 :\n",
    "    reversed_text += text[i]\n",
    "    i -= 1\n",
    "print(\"Reversed string:\", reversed_text)"
   ]
  },
  {
   "cell_type": "code",
   "execution_count": 3,
   "id": "85024689-7d16-44fe-a202-d08ec0c2299e",
   "metadata": {},
   "outputs": [
    {
     "name": "stdin",
     "output_type": "stream",
     "text": [
      "Enter a number :  5\n"
     ]
    },
    {
     "name": "stdout",
     "output_type": "stream",
     "text": [
      "Factorial of  5 is 120\n"
     ]
    }
   ],
   "source": [
    "# 15. Write a Python program to calculate the factorial of a number provided by the user using a while loop.\n",
    "number = int(input(\"Enter a number : \"))\n",
    "factorial = 1\n",
    "i = 1 \n",
    "while i <= number:\n",
    "    factorial *= i\n",
    "    i += 1 \n",
    "print(\"Factorial of \" , number, \"is\", factorial)"
   ]
  },
  {
   "cell_type": "code",
   "execution_count": null,
   "id": "a9ce39b1-04e0-4039-80f1-9d0311d70916",
   "metadata": {},
   "outputs": [],
   "source": []
  }
 ],
 "metadata": {
  "kernelspec": {
   "display_name": "Python 3 (ipykernel)",
   "language": "python",
   "name": "python3"
  },
  "language_info": {
   "codemirror_mode": {
    "name": "ipython",
    "version": 3
   },
   "file_extension": ".py",
   "mimetype": "text/x-python",
   "name": "python",
   "nbconvert_exporter": "python",
   "pygments_lexer": "ipython3",
   "version": "3.13.3"
  }
 },
 "nbformat": 4,
 "nbformat_minor": 5
}
